{
 "cells": [
  {
   "cell_type": "code",
   "execution_count": 8,
   "id": "8c12611a-ce6c-44cd-a437-81df99806403",
   "metadata": {},
   "outputs": [
    {
     "name": "stdout",
     "output_type": "stream",
     "text": [
      "2\n"
     ]
    }
   ],
   "source": [
    "print(1+1)"
   ]
  },
  {
   "cell_type": "code",
   "execution_count": 12,
   "id": "7c39559f-1b7f-4981-8d27-2f55fd88d6f2",
   "metadata": {},
   "outputs": [
    {
     "data": {
      "text/plain": [
       "7"
      ]
     },
     "execution_count": 12,
     "metadata": {},
     "output_type": "execute_result"
    }
   ],
   "source": [
    "ice_cream_rating = 7\n",
    "ice_cream_rating"
   ]
  },
  {
   "cell_type": "code",
   "execution_count": 11,
   "id": "c668767f-22a9-4d0c-ad8c-b96c3dae61df",
   "metadata": {},
   "outputs": [
    {
     "data": {
      "text/plain": [
       "6"
      ]
     },
     "execution_count": 11,
     "metadata": {},
     "output_type": "execute_result"
    }
   ],
   "source": [
    "sleeping_rating = 6\n",
    "sleeping_rating"
   ]
  },
  {
   "cell_type": "code",
   "execution_count": 15,
   "id": "d1d088ff-6d76-467d-a33d-d72f75d2690c",
   "metadata": {},
   "outputs": [
    {
     "data": {
      "text/plain": [
       "6.5"
      ]
     },
     "execution_count": 15,
     "metadata": {},
     "output_type": "execute_result"
    }
   ],
   "source": [
    "happiness_rating = ((sleeping_rating + ice_cream_rating) /2)\n",
    "happiness_rating "
   ]
  },
  {
   "cell_type": "markdown",
   "id": "e941e5a1-245b-4c41-b96e-b1638ff2dba2",
   "metadata": {},
   "source": [
    "print(type(happiness_rating))\n",
    "print(type(sleeping_rating))\n",
    "print(type(ice_cream_rating))"
   ]
  },
  {
   "cell_type": "code",
   "execution_count": null,
   "id": "44a12f76-c290-4ff4-b00b-0b848ecda3c1",
   "metadata": {},
   "outputs": [],
   "source": []
  },
  {
   "cell_type": "code",
   "execution_count": null,
   "id": "3b946024-d161-40f1-8a13-32bba6a073de",
   "metadata": {},
   "outputs": [],
   "source": []
  },
  {
   "cell_type": "code",
   "execution_count": null,
   "id": "7ae1514c-0b58-4373-a137-149a4a521bd4",
   "metadata": {},
   "outputs": [],
   "source": []
  }
 ],
 "metadata": {
  "kernelspec": {
   "display_name": "Python 3 (ipykernel)",
   "language": "python",
   "name": "python3"
  },
  "language_info": {
   "codemirror_mode": {
    "name": "ipython",
    "version": 3
   },
   "file_extension": ".py",
   "mimetype": "text/x-python",
   "name": "python",
   "nbconvert_exporter": "python",
   "pygments_lexer": "ipython3",
   "version": "3.10.16"
  }
 },
 "nbformat": 4,
 "nbformat_minor": 5
}
